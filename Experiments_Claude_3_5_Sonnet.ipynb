{
  "cells": [
    {
      "cell_type": "markdown",
      "metadata": {
        "id": "view-in-github",
        "colab_type": "text"
      },
      "source": [
        "<a href=\"https://colab.research.google.com/github/kihyuk-nam/kihyuk-nam/blob/master/Experiments_Claude_3_5_Sonnet.ipynb\" target=\"_parent\"><img src=\"https://colab.research.google.com/assets/colab-badge.svg\" alt=\"Open In Colab\"/></a>"
      ]
    },
    {
      "cell_type": "markdown",
      "source": [
        "---\n",
        "# Clinical reasoning test\n",
        "---\n",
        "- LLMs used: ChatGPT-4o\n",
        "- Datasets:\n",
        "  - Private:\n",
        "    - [IDBR_2023_Question_Set_A (A set)](https://docs.google.com/spreadsheets/d/1ZvWyUuHco_2F3dFxDv0_g_3qkOYE2RXpRXk6IUoYyBg/edit?usp=drive_link)\n",
        "    - [IDBR_2023_Question_Set_B (B set)](https://docs.google.com/spreadsheets/d/1NPBE2MaPc-ekcOBqyfK7hjJ_y9ecpjK-raY4o6WWHzE/edit?usp=drive_link)\n",
        "  - Public:\n",
        "    - MedQA\n",
        "    - PubMedQA\n",
        "- Prompt from [the paper](https://www.nature.com/articles/s41746-024-01010-1)\n"
      ],
      "metadata": {
        "id": "UEiAXXAUFsda"
      }
    },
    {
      "cell_type": "markdown",
      "source": [
        "---\n",
        "# Definitions\n",
        "---"
      ],
      "metadata": {
        "id": "TDzNzYcsFAkH"
      }
    },
    {
      "cell_type": "markdown",
      "source": [
        "## 1. key information\n",
        "- API key\n",
        "- dataset url\n",
        "- paths for the result files (.csv, .log)\n"
      ],
      "metadata": {
        "id": "lvdi5cnOGG8H"
      }
    },
    {
      "cell_type": "code",
      "execution_count": null,
      "metadata": {
        "id": "HTci6Mx3TWOi"
      },
      "outputs": [],
      "source": [
        "# Setting up OpenAI API key\n",
        "from google.colab import userdata # get the key from the colab secrets\n",
        "import os\n",
        "os.environ['ANTHROPIC_API_KEY'] = userdata.get('ANTHROPIC_API_KEY_KIMNAM')\n",
        "# openai.api_key = userdata.get('OPENAI_API_KEY') # deprecated"
      ]
    },
    {
      "cell_type": "code",
      "source": [
        "# set info of input dataset file\n",
        "url_case = 'https://docs.google.com/spreadsheets/d/1fdjvzc6ktNmD-fLFPl1Nk7ZL296ZFMJtcZQgr0UFOYQ/edit?usp=sharing' # IDBR_2023_Question_Set_A (B2-101 Cell)\n",
        "#url = 'https://docs.google.com/spreadsheets/d/1NPBE2MaPc-ekcOBqyfK7hjJ_y9ecpjK-raY4o6WWHzE/edit?usp=sharing' # IDBR_2023_Question_Set_B\n",
        "sheet_case = 'latest'\n",
        "cell_col_case = 'B'\n",
        "cell_row_case = '2'\n",
        "\n",
        "# set info of prompt template file\n",
        "url_prompt = 'https://docs.google.com/spreadsheets/d/12jZvwX0KDUm8C1VErSOTKx_J6wVWEF9mq-hqYrzE3ug/edit?usp=sharing' # Prompt Template (B2 Cell)\n",
        "sheet_prompt = 'latest'\n",
        "cell_col_prompt = 'B'\n",
        "cell_row_promt = '2'"
      ],
      "metadata": {
        "id": "3dtpS0I29kld"
      },
      "execution_count": null,
      "outputs": []
    },
    {
      "cell_type": "code",
      "source": [
        "# setting up the path for saving results (.log, .csv)\n",
        "root_path = '/content/drive/MyDrive/2024/Clinical Reasoning/' # base directory\n",
        "question_set = 'IDBR_2023_Question_Set_A' # 'IDBR_2023_Question_Set_B'\n",
        "llm_type = 'Claude-3.5-Sonnet'\n",
        "result_path = root_path + question_set + '_Result/' + llm_type + '/'\n",
        "\n",
        "# check the path\n",
        "print(result_path)\n",
        "# should be one of the followings\n",
        "#  '/content/drive/MyDrive/2024/Clinical Reasoning/IDBR_2023_Question_Set_A_Result/ChatGPT-4o/'\n",
        "#  '/content/drive/MyDrive/2024/Clinical Reasoning/IDBR_2023_Question_Set_A_Result/Claude-3.5-Sonnet/'\n",
        "#  '/content/drive/MyDrive/2024/Clinical Reasoning/IDBR_2023_Question_Set_B_Result/ChatGPT-4o/'\n",
        "#  '/content/drive/MyDrive/2024/Clinical Reasoning/IDBR_2023_Question_Set_B_Result/Claude-3.5-Sonnet/'"
      ],
      "metadata": {
        "colab": {
          "base_uri": "https://localhost:8080/"
        },
        "id": "TAYV6jctuLgm",
        "outputId": "fdc61477-90a6-44f0-d39b-c4ab1864cc07"
      },
      "execution_count": null,
      "outputs": [
        {
          "output_type": "stream",
          "name": "stdout",
          "text": [
            "/content/drive/MyDrive/2024/Clinical Reasoning/IDBR_2023_Question_Set_A_Result/Claude-3.5-Sonnet/\n"
          ]
        }
      ]
    },
    {
      "cell_type": "code",
      "source": [
        "# set the scope of the input (start ID ~ end ID)\n",
        "start_row = 0\n",
        "end_row = 99"
      ],
      "metadata": {
        "id": "yuMftAP4RHVr"
      },
      "execution_count": null,
      "outputs": []
    },
    {
      "cell_type": "markdown",
      "source": [
        "---\n",
        "# Execution\n",
        "---"
      ],
      "metadata": {
        "id": "HPswHOZDFbhw"
      }
    },
    {
      "cell_type": "markdown",
      "source": [
        "## 1. Setting up pre-requisites\n",
        "- install dependencies\n",
        "- mount into google drive\n",
        "- set google drive paths for result (.log and .csv)"
      ],
      "metadata": {
        "id": "DmnWOB_pBx43"
      }
    },
    {
      "cell_type": "code",
      "execution_count": null,
      "metadata": {
        "id": "59qmZbsRTd-i",
        "colab": {
          "base_uri": "https://localhost:8080/"
        },
        "outputId": "6b68221f-ad62-46a3-ec68-bd7f219196bf"
      },
      "outputs": [
        {
          "output_type": "stream",
          "name": "stdout",
          "text": [
            "Collecting anthropic\n",
            "  Downloading anthropic-0.34.2-py3-none-any.whl.metadata (18 kB)\n",
            "Requirement already satisfied: anyio<5,>=3.5.0 in /usr/local/lib/python3.10/dist-packages (from anthropic) (3.7.1)\n",
            "Requirement already satisfied: distro<2,>=1.7.0 in /usr/lib/python3/dist-packages (from anthropic) (1.7.0)\n",
            "Collecting httpx<1,>=0.23.0 (from anthropic)\n",
            "  Downloading httpx-0.27.2-py3-none-any.whl.metadata (7.1 kB)\n",
            "Collecting jiter<1,>=0.4.0 (from anthropic)\n",
            "  Downloading jiter-0.5.0-cp310-cp310-manylinux_2_17_x86_64.manylinux2014_x86_64.whl.metadata (3.6 kB)\n",
            "Requirement already satisfied: pydantic<3,>=1.9.0 in /usr/local/lib/python3.10/dist-packages (from anthropic) (2.9.2)\n",
            "Requirement already satisfied: sniffio in /usr/local/lib/python3.10/dist-packages (from anthropic) (1.3.1)\n",
            "Requirement already satisfied: tokenizers>=0.13.0 in /usr/local/lib/python3.10/dist-packages (from anthropic) (0.19.1)\n",
            "Requirement already satisfied: typing-extensions<5,>=4.7 in /usr/local/lib/python3.10/dist-packages (from anthropic) (4.12.2)\n",
            "Requirement already satisfied: idna>=2.8 in /usr/local/lib/python3.10/dist-packages (from anyio<5,>=3.5.0->anthropic) (3.10)\n",
            "Requirement already satisfied: exceptiongroup in /usr/local/lib/python3.10/dist-packages (from anyio<5,>=3.5.0->anthropic) (1.2.2)\n",
            "Requirement already satisfied: certifi in /usr/local/lib/python3.10/dist-packages (from httpx<1,>=0.23.0->anthropic) (2024.8.30)\n",
            "Collecting httpcore==1.* (from httpx<1,>=0.23.0->anthropic)\n",
            "  Downloading httpcore-1.0.5-py3-none-any.whl.metadata (20 kB)\n",
            "Collecting h11<0.15,>=0.13 (from httpcore==1.*->httpx<1,>=0.23.0->anthropic)\n",
            "  Downloading h11-0.14.0-py3-none-any.whl.metadata (8.2 kB)\n",
            "Requirement already satisfied: annotated-types>=0.6.0 in /usr/local/lib/python3.10/dist-packages (from pydantic<3,>=1.9.0->anthropic) (0.7.0)\n",
            "Requirement already satisfied: pydantic-core==2.23.4 in /usr/local/lib/python3.10/dist-packages (from pydantic<3,>=1.9.0->anthropic) (2.23.4)\n",
            "Requirement already satisfied: huggingface-hub<1.0,>=0.16.4 in /usr/local/lib/python3.10/dist-packages (from tokenizers>=0.13.0->anthropic) (0.24.7)\n",
            "Requirement already satisfied: filelock in /usr/local/lib/python3.10/dist-packages (from huggingface-hub<1.0,>=0.16.4->tokenizers>=0.13.0->anthropic) (3.16.1)\n",
            "Requirement already satisfied: fsspec>=2023.5.0 in /usr/local/lib/python3.10/dist-packages (from huggingface-hub<1.0,>=0.16.4->tokenizers>=0.13.0->anthropic) (2024.6.1)\n",
            "Requirement already satisfied: packaging>=20.9 in /usr/local/lib/python3.10/dist-packages (from huggingface-hub<1.0,>=0.16.4->tokenizers>=0.13.0->anthropic) (24.1)\n",
            "Requirement already satisfied: pyyaml>=5.1 in /usr/local/lib/python3.10/dist-packages (from huggingface-hub<1.0,>=0.16.4->tokenizers>=0.13.0->anthropic) (6.0.2)\n",
            "Requirement already satisfied: requests in /usr/local/lib/python3.10/dist-packages (from huggingface-hub<1.0,>=0.16.4->tokenizers>=0.13.0->anthropic) (2.32.3)\n",
            "Requirement already satisfied: tqdm>=4.42.1 in /usr/local/lib/python3.10/dist-packages (from huggingface-hub<1.0,>=0.16.4->tokenizers>=0.13.0->anthropic) (4.66.5)\n",
            "Requirement already satisfied: charset-normalizer<4,>=2 in /usr/local/lib/python3.10/dist-packages (from requests->huggingface-hub<1.0,>=0.16.4->tokenizers>=0.13.0->anthropic) (3.3.2)\n",
            "Requirement already satisfied: urllib3<3,>=1.21.1 in /usr/local/lib/python3.10/dist-packages (from requests->huggingface-hub<1.0,>=0.16.4->tokenizers>=0.13.0->anthropic) (2.2.3)\n",
            "Downloading anthropic-0.34.2-py3-none-any.whl (891 kB)\n",
            "\u001b[2K   \u001b[90m━━━━━━━━━━━━━━━━━━━━━━━━━━━━━━━━━━━━━━━━\u001b[0m \u001b[32m891.9/891.9 kB\u001b[0m \u001b[31m14.9 MB/s\u001b[0m eta \u001b[36m0:00:00\u001b[0m\n",
            "\u001b[?25hDownloading httpx-0.27.2-py3-none-any.whl (76 kB)\n",
            "\u001b[2K   \u001b[90m━━━━━━━━━━━━━━━━━━━━━━━━━━━━━━━━━━━━━━━━\u001b[0m \u001b[32m76.4/76.4 kB\u001b[0m \u001b[31m4.8 MB/s\u001b[0m eta \u001b[36m0:00:00\u001b[0m\n",
            "\u001b[?25hDownloading httpcore-1.0.5-py3-none-any.whl (77 kB)\n",
            "\u001b[2K   \u001b[90m━━━━━━━━━━━━━━━━━━━━━━━━━━━━━━━━━━━━━━━━\u001b[0m \u001b[32m77.9/77.9 kB\u001b[0m \u001b[31m5.2 MB/s\u001b[0m eta \u001b[36m0:00:00\u001b[0m\n",
            "\u001b[?25hDownloading jiter-0.5.0-cp310-cp310-manylinux_2_17_x86_64.manylinux2014_x86_64.whl (318 kB)\n",
            "\u001b[2K   \u001b[90m━━━━━━━━━━━━━━━━━━━━━━━━━━━━━━━━━━━━━━━━\u001b[0m \u001b[32m318.9/318.9 kB\u001b[0m \u001b[31m18.0 MB/s\u001b[0m eta \u001b[36m0:00:00\u001b[0m\n",
            "\u001b[?25hDownloading h11-0.14.0-py3-none-any.whl (58 kB)\n",
            "\u001b[2K   \u001b[90m━━━━━━━━━━━━━━━━━━━━━━━━━━━━━━━━━━━━━━━━\u001b[0m \u001b[32m58.3/58.3 kB\u001b[0m \u001b[31m3.5 MB/s\u001b[0m eta \u001b[36m0:00:00\u001b[0m\n",
            "\u001b[?25hInstalling collected packages: jiter, h11, httpcore, httpx, anthropic\n",
            "Successfully installed anthropic-0.34.2 h11-0.14.0 httpcore-1.0.5 httpx-0.27.2 jiter-0.5.0\n"
          ]
        }
      ],
      "source": [
        "# install dependencies\n",
        "!pip install --upgrade anthropic"
      ]
    },
    {
      "cell_type": "code",
      "source": [
        "# connect to Gogole Drive\n",
        "from google.colab import drive\n",
        "drive.mount(\"/content/drive\")"
      ],
      "metadata": {
        "colab": {
          "base_uri": "https://localhost:8080/"
        },
        "id": "CJiwFE75qHp5",
        "outputId": "b94f8920-282e-4035-bce0-cbf96bda17d1"
      },
      "execution_count": null,
      "outputs": [
        {
          "output_type": "stream",
          "name": "stdout",
          "text": [
            "Mounted at /content/drive\n"
          ]
        }
      ]
    },
    {
      "cell_type": "code",
      "source": [
        "# Set output file path\n",
        "from datetime import datetime\n",
        "current_time = datetime.now().strftime(\"%Y%m%d_%H%M%S\")\n",
        "file_path = f\"{result_path}result_{current_time}.csv\"\n",
        "log_path = f\"{result_path}result_{current_time}.log\"\n",
        "print(file_path)\n",
        "print(log_path)"
      ],
      "metadata": {
        "colab": {
          "base_uri": "https://localhost:8080/"
        },
        "id": "TwXt89XjvFOw",
        "outputId": "faab1bf1-aa00-446e-b5ef-64329e9523ef"
      },
      "execution_count": null,
      "outputs": [
        {
          "output_type": "stream",
          "name": "stdout",
          "text": [
            "/content/drive/MyDrive/2024/Clinical Reasoning/IDBR_2023_Question_Set_A_Result/Claude-3.5-Sonnet/result_20240926_141533.csv\n",
            "/content/drive/MyDrive/2024/Clinical Reasoning/IDBR_2023_Question_Set_A_Result/Claude-3.5-Sonnet/result_20240926_141533.log\n"
          ]
        }
      ]
    },
    {
      "cell_type": "code",
      "source": [
        "# move into the result_path\n",
        "%cd $result_path\n",
        "!ls"
      ],
      "metadata": {
        "colab": {
          "base_uri": "https://localhost:8080/"
        },
        "id": "1_b8l7tqCVw1",
        "outputId": "2268d60a-7fd0-4d63-d5d6-6c9e6df57bec"
      },
      "execution_count": null,
      "outputs": [
        {
          "output_type": "stream",
          "name": "stdout",
          "text": [
            "/content/drive/MyDrive/2024/Clinical Reasoning/IDBR_2023_Question_Set_A_Result/Claude-3.5-Sonnet\n",
            "Experiment-0829  Experiment-0901  Experiment-0905  Experiment-0908-CoT\t휴지통\n"
          ]
        }
      ]
    },
    {
      "cell_type": "markdown",
      "source": [
        "## 2. Preparing for the input data\n",
        "- extract prompt from the template sheet\n",
        "  - Prompt from [the paper](https://www.nature.com/articles/s41746-024-01010-1)\n",
        "  - use CoT for differential diagnosis and analytical reasoning *only*\n",
        "- extract only questions from the original datasets\n",
        "- save them into a Pandas DataFrame object\n",
        "- used the code from [the medium article](https://medium.com/stackademic/how-to-read-data-from-google-sheets-in-google-colab-2370f54a7fff)"
      ],
      "metadata": {
        "id": "e1mbPYtKGJtT"
      }
    },
    {
      "cell_type": "code",
      "source": [
        "# pre-requisites for accessing google sheets\n",
        "from google.colab import auth\n",
        "import gspread\n",
        "from google.auth import default\n",
        "import pandas as pd"
      ],
      "metadata": {
        "id": "OpRRqPbKIhwE"
      },
      "execution_count": null,
      "outputs": []
    },
    {
      "cell_type": "code",
      "source": [
        "# authenticating to google\n",
        "# [TODO] check for any duplication (cf. code for mounting the drive)\n",
        "auth.authenticate_user()\n",
        "creds, _ = default()\n",
        "gc = gspread.authorize(creds)"
      ],
      "metadata": {
        "id": "h_uNYDj-I2rs"
      },
      "execution_count": null,
      "outputs": []
    },
    {
      "cell_type": "code",
      "source": [
        "# read all values from a sheet\n",
        "def load_column(url, sheet_name='latest', column='B', start='2'):\n",
        "\n",
        "    # 1. Open the Google Sheets document\n",
        "    sh = gc.open_by_url(url)\n",
        "\n",
        "    # 2. Selecting the first sheet\n",
        "    worksheet = sh.get_worksheet(0)\n",
        "\n",
        "    # 3. Select the sheet_name if any. Default is the first sheet\n",
        "    if sheet_name:\n",
        "        worksheet = sh.worksheet(sheet_name)\n",
        "    else:\n",
        "        worksheet = sh.get_worksheet(0)\n",
        "\n",
        "    # 3. Get all questions from the specified column starting from the specified row\n",
        "    col_letter = column.upper()\n",
        "    start_cell = f'{col_letter}{start}'\n",
        "    end_cell = f'{col_letter}{worksheet.row_count}'\n",
        "    cell_range = f'{start_cell}:{end_cell}'\n",
        "\n",
        "    data = worksheet.get_values(cell_range)\n",
        "    data = [item[0] for item in data if item]  # Flatten the list and remove empty cells\n",
        "\n",
        "    # 5. Convert to DataFrame\n",
        "    df = pd.DataFrame(data)\n",
        "\n",
        "    return df"
      ],
      "metadata": {
        "id": "fXKQIGivJE0y"
      },
      "execution_count": null,
      "outputs": []
    },
    {
      "cell_type": "code",
      "source": [
        "#[TODO] read_string = load_column(url_prompt, sheet_prompt, 'B', '2')\n",
        "example = \"\"\n",
        "cot = f\"\"\"\n",
        "Following is an example of the medical question, which is answered by Differential diagnosis chain-of-thought (CoT) and Analytic reasoning CoT.\n",
        "\n",
        "“Shortly after undergoing a bipolar prosthesis for a displaced femoral neck fracture of the left hip acquired after a fall the day before, an 80-year-old woman suddenly develops dyspnea. The surgery under general anesthesia with sevoflurane was uneventful, lasting 98 min, during which the patient maintained oxygen saturation readings of 100% on 8 l of oxygen. She has a history of hypertension, osteoporosis, and osteoarthritis of her right knee. Her medications include ramipril, naproxen, ranitidine, and a multivitamin. She appears cyanotic, drowsy, and is oriented only to person. Her temperature is 38.6 °C (101.5 °F), pulse is 135/min, respirations are 36/min, and blood pressure is 155/95 mm Hg. Pulse oximetry on room air shows an oxygen saturation of 81%. There are several scattered petechiae on the anterior chest wall. Laboratory studies show a hemoglobin concentration of 10.5 g/dl, a leukocyte count of 9000/mm3, a platelet count of 145,000/mm3, and a creatine kinase of 190 U/l. An ECG shows sinus tachycardia. What is the most likely diagnosis?\n",
        "\n",
        "Differential diagnosis chain-of-thought (CoT): This patient has shortness of breath after a long bone surgery. The differential for this patient is pulmonary embolism, fat embolism, myocardial infarction, blood loss, anaphylaxis, or a drug reaction. The patient has petechiae which makes fat embolism more likely. This patient most likely has a fat embolism.\n",
        "\n",
        "Analytic reasoning CoT: The patient recently had large bone surgery making fat emboli a potential cause because the bone marrow was manipulated. Petechiae can form in response to capillary inflammation caused by fat emboli. Fat micro globules cause CNS microcirculation occlusion causing confusion and altered mental status. Fat obstruction in the pulmonary arteries can cause tachycardia and shortness of breath as seen in this patient. This patient most likely has a fat embolism.”\n",
        "\n",
        "Following the example, read the presentation of a medical question and provide the single best answer using the following two steps.\n",
        "First, develop an initial preliminary answer by applying both the differential diagnosis chain of thought (CoT) and analytic reasoning CoT.\n",
        "Then, reassess the relevant details from the case presentation and reevaluate the initial answer.\n",
        "During the reevaluation process, if conflicting factors arise, such as drug interactions, clinical risks, or benefit-risk considerations, select the answer that minimizes potential harm to the patient.\n",
        "After completing the reevaluation, provide both the initial preliminary answer and the final answer, with an explanation supported by the differential diagnosis CoT and analytic reasoning CoT.\n",
        "\n",
        "Question:\n",
        "\"\"\"\n",
        "prompt_template = lambda comment: f'''\\n{example} \\n{question} \\n'''"
      ],
      "metadata": {
        "id": "kuJAfzAUEF4F"
      },
      "execution_count": null,
      "outputs": []
    },
    {
      "cell_type": "code",
      "source": [
        "# load the question column into 'questions'\n",
        "cases = load_column(url_case)\n",
        "#print(cases)"
      ],
      "metadata": {
        "id": "wOcNx5I1KVMe"
      },
      "execution_count": null,
      "outputs": []
    },
    {
      "cell_type": "code",
      "source": [
        "# check the result (verbose)\n",
        "for index, row in cases.iterrows():\n",
        "  if 13 > index or index > 15:\n",
        "    continue\n",
        "  question = row[0]\n",
        "  prompt = prompt_template(question)\n",
        "  print(f\"\\n{index}:\\n{prompt}\\n\")\n",
        "    #for column in df.columns: # in case of multiple columns\n",
        "        #value = row[column]\n",
        "        #print(f\"Row {index}, Column {column}: {value}\")"
      ],
      "metadata": {
        "colab": {
          "base_uri": "https://localhost:8080/"
        },
        "id": "D8H2H4C7N3no",
        "outputId": "2e03b385-c4a4-47dd-fff2-f903835de70e"
      },
      "execution_count": null,
      "outputs": [
        {
          "output_type": "stream",
          "name": "stdout",
          "text": [
            "\n",
            "13:\n",
            "\n",
            " \n",
            "A 55-year-old woman from rural Connecticut seeks your advice on what to do about a tiny tick she removed from her abdomen five days previously. She does not know how long the tick had been there because she had been on a camping trip and not bathing regularly. She takes prednisone and methotrexate for her rheumatoid arthritis. She feels well and has no skin lesions. \n",
            "\n",
            "Assuming that the tick was likely Ixodes scapularis, you would: \n",
            "> Prescribe a single 200 mg dose of doxycycline \n",
            "> Prescribe a 10-day course of doxycycline, 100 mg BID \n",
            "> Prescribe a single 500 mg dose of amoxicillin \n",
            "> Prescribe a 10-day course of amoxicillin 500 mg TID \n",
            "> Prescribe nothing unless compatible manifestations develop \n",
            "\n",
            "\n",
            "\n",
            "14:\n",
            "\n",
            " \n",
            "A 19-year-old male with no significant past medical history was found difficult to arouse by his roommate in his college dormitory room and was taken to the emergency department. There, he was found to have bacteremic meningococcal meningitis. The patient was started on ceftriaxone. The patient’s roommate received the quadrivalent meningococcal conjugate vaccine one year earlier. \n",
            "\n",
            "Which of the following is the most appropriate approach to prevent infection resulting from this case in the patient’s roommate? \n",
            "> Chemoprophylaxis \n",
            "> Booster immunization with the meningococcal polyvalent conjugate vaccine plus the serogroup B vaccine \n",
            "> Empiric antimicrobial therapy for meningococcal infection \n",
            "> Culture the roommate’s nasopharynx and provide chemoprophylaxis if positive \n",
            "> No intervention is required \n",
            "\n",
            "\n",
            "\n",
            "15:\n",
            "\n",
            " \n",
            "A 35-year-old woman presents at 38 weeks in the midst of labor for her 6th child. She has had no prenatal care. She received a dose of Tdap three years prior during one of her pregnancies. \n",
            "\n",
            "Regarding Tdap (tetanus, diphtheria, acellular pertussis) vaccination at present, you would recommend which one of the following: \n",
            "> No further immunization of the mother is appropriate since she was immunized at the time of her last pregnancy \n",
            "> Vaccinate the mother now with a booster but no one else in household needs immunization \n",
            "> Vaccinate the mother 6 weeks post partum with a booster \n",
            "> Repeat a series of three primary immunizations for the mother 6 weeks post partum \n",
            "> Administer now to mother and baby and any household members who will have exposure to the baby \n",
            "\n",
            "\n"
          ]
        }
      ]
    },
    {
      "cell_type": "markdown",
      "source": [
        "## 3. Running the experiment\n",
        "- running states are recorded into the .log file"
      ],
      "metadata": {
        "id": "Ix0_OuI2FrQa"
      }
    },
    {
      "cell_type": "code",
      "source": [
        "import anthropic # Don't forget to !pip install anthropic\n",
        "import time # for delaying between api calls\n",
        "\n",
        "# set the LLM to be used\n",
        "client = anthropic.Anthropic()\n",
        "\n",
        "results = [] # results to be generated by LLM\n",
        "with open(log_path, 'w', encoding='utf-8', newline='') as f:\n",
        "  for index, row in cases.iterrows():\n",
        "    if start_row > index or index > end_row:\n",
        "      continue\n",
        "    question = row[0]\n",
        "    prompt = prompt_template(question)\n",
        "    print(f\"processing #{index}\")\n",
        "    f.write(f\"\\n{index}:\\n{prompt}\\n\")\n",
        "\n",
        "    message=[{\"role\": \"user\", \"content\": prompt}]\n",
        "    try:\n",
        "      response = client.messages.create(\n",
        "          model=\"claude-3-5-sonnet-20240620\",\n",
        "          messages=message,\n",
        "          temperature=0,\n",
        "          max_tokens=1000,\n",
        "      )\n",
        "\n",
        "      # extract text from 'response' and add it to 'result'\n",
        "      # and add it to the results\n",
        "      response_text = response.content[0].text\n",
        "      results.append({'question': question, 'response': response_text})\n",
        "      f.write(f\"Response:\\n{response_text}\\n\")\n",
        "    except Exception as e:\n",
        "      print(f\"Error occurred: {e}\")\n",
        "      results.append({'question': question, 'response': f\"Error: {str(e)}\"})\n",
        "\n",
        "  time.sleep(15)\n",
        "\n",
        "df_results = pd.DataFrame(results)"
      ],
      "metadata": {
        "id": "jLIyelXGFgAK",
        "colab": {
          "base_uri": "https://localhost:8080/"
        },
        "outputId": "ea007b54-2841-445b-c4d9-98d1208bbc82"
      },
      "execution_count": null,
      "outputs": [
        {
          "output_type": "stream",
          "name": "stdout",
          "text": [
            "processing #0\n",
            "processing #1\n",
            "processing #2\n",
            "processing #3\n",
            "processing #4\n",
            "processing #5\n",
            "processing #6\n",
            "processing #7\n",
            "processing #8\n",
            "processing #9\n",
            "processing #10\n",
            "processing #11\n",
            "processing #12\n",
            "processing #13\n",
            "processing #14\n",
            "processing #15\n",
            "processing #16\n",
            "processing #17\n",
            "processing #18\n",
            "processing #19\n",
            "processing #20\n",
            "processing #21\n",
            "processing #22\n",
            "processing #23\n",
            "processing #24\n",
            "processing #25\n",
            "processing #26\n",
            "processing #27\n",
            "processing #28\n",
            "processing #29\n",
            "processing #30\n",
            "processing #31\n",
            "processing #32\n",
            "processing #33\n",
            "processing #34\n",
            "processing #35\n",
            "processing #36\n",
            "processing #37\n",
            "processing #38\n",
            "processing #39\n",
            "processing #40\n",
            "processing #41\n",
            "processing #42\n",
            "processing #43\n",
            "processing #44\n",
            "processing #45\n",
            "processing #46\n",
            "processing #47\n",
            "processing #48\n",
            "processing #49\n",
            "processing #50\n",
            "processing #51\n",
            "processing #52\n",
            "processing #53\n",
            "processing #54\n",
            "processing #55\n",
            "processing #56\n",
            "processing #57\n",
            "processing #58\n",
            "processing #59\n",
            "processing #60\n",
            "processing #61\n",
            "processing #62\n",
            "processing #63\n",
            "processing #64\n",
            "processing #65\n",
            "processing #66\n",
            "processing #67\n",
            "processing #68\n",
            "processing #69\n",
            "processing #70\n",
            "processing #71\n",
            "processing #72\n",
            "processing #73\n",
            "processing #74\n",
            "processing #75\n",
            "processing #76\n",
            "processing #77\n",
            "processing #78\n",
            "processing #79\n",
            "processing #80\n",
            "processing #81\n",
            "processing #82\n",
            "processing #83\n",
            "processing #84\n",
            "processing #85\n",
            "processing #86\n",
            "processing #87\n",
            "processing #88\n",
            "processing #89\n",
            "processing #90\n",
            "processing #91\n",
            "processing #92\n",
            "processing #93\n",
            "processing #94\n",
            "processing #95\n",
            "processing #96\n",
            "processing #97\n",
            "processing #98\n",
            "processing #99\n"
          ]
        }
      ]
    },
    {
      "cell_type": "code",
      "source": [
        "# check the result (concise)\n",
        "print(df_results)"
      ],
      "metadata": {
        "colab": {
          "base_uri": "https://localhost:8080/"
        },
        "id": "yaQBhfsAZBEf",
        "outputId": "277f5894-c9ec-40ab-e35d-b69ee05cd58a"
      },
      "execution_count": null,
      "outputs": [
        {
          "output_type": "stream",
          "name": "stdout",
          "text": [
            "                                             question  \\\n",
            "0   A 59-year-old male is being treated for MSSA s...   \n",
            "1   A 20-year-old woman presents with progressive ...   \n",
            "2   In your community, there is an outbreak of cas...   \n",
            "3   At a nuclear plant in Argentina there is an ou...   \n",
            "4   A 40-year-old businessman develops diarrhea wh...   \n",
            "..                                                ...   \n",
            "95  Four adults became ill after having lunch toge...   \n",
            "96  A 57-year-old man seeks attention for intermit...   \n",
            "97  You are called by a 41-year-old friend who two...   \n",
            "98  A 33-year-old bank executive is seen for inter...   \n",
            "99  A 49-year-old oncologist noted an enlarged lym...   \n",
            "\n",
            "                                             response  \n",
            "0   Based on the information provided, the best ma...  \n",
            "1   Based on the information provided, the most ap...  \n",
            "2   Based on the information provided, the organis...  \n",
            "3   Based on the information provided, the most li...  \n",
            "4   Based on the information provided, the most ap...  \n",
            "..                                                ...  \n",
            "95  Based on the information provided, the most li...  \n",
            "96  Based on the information provided, the most li...  \n",
            "97  The most appropriate intervention for your fri...  \n",
            "98  Based on the information provided, the most li...  \n",
            "99  Based on the information provided, the most li...  \n",
            "\n",
            "[100 rows x 2 columns]\n"
          ]
        }
      ]
    },
    {
      "cell_type": "markdown",
      "source": [
        "## 4. Saving the result"
      ],
      "metadata": {
        "id": "TYsGpnm4GbDz"
      }
    },
    {
      "cell_type": "code",
      "execution_count": null,
      "metadata": {
        "id": "DFKtvlUuFV_X",
        "colab": {
          "base_uri": "https://localhost:8080/"
        },
        "outputId": "fc905364-119e-4d9d-df26-55893d6c3a6a"
      },
      "outputs": [
        {
          "output_type": "stream",
          "name": "stdout",
          "text": [
            "Results saved to results.csv\n"
          ]
        }
      ],
      "source": [
        "with open(file_path, 'w', encoding='utf-8', newline='') as f:\n",
        "  df_results.to_csv(f, header=True, index=False)\n",
        "  print(\"Results saved to results.csv\")"
      ]
    }
  ],
  "metadata": {
    "colab": {
      "provenance": [],
      "include_colab_link": true
    },
    "kernelspec": {
      "display_name": "Python 3",
      "name": "python3"
    },
    "language_info": {
      "name": "python"
    }
  },
  "nbformat": 4,
  "nbformat_minor": 0
}